{
 "cells": [
  {
   "cell_type": "code",
   "execution_count": 10,
   "metadata": {},
   "outputs": [],
   "source": [
    "class Node:\n",
    "    def __init__(self,data=None):\n",
    "        self.data = data\n",
    "        self.next = None\n",
    "        self.prev = None"
   ]
  },
  {
   "cell_type": "code",
   "execution_count": 16,
   "metadata": {},
   "outputs": [],
   "source": [
    "class DLL:\n",
    "    def __init__(self):\n",
    "        self.head = Node()\n",
    "    def add(self,data):\n",
    "        new = Node(data)\n",
    "        cur = self.head\n",
    "        while cur.next!=None:\n",
    "            cur = cur.next\n",
    "        new.prev = cur\n",
    "        cur.next =new\n",
    "    def display(self):\n",
    "        elements = []\n",
    "        cur = self.head\n",
    "        while cur.next!=None:\n",
    "            cur = cur.next\n",
    "            elements.append(cur.data)\n",
    "        return elements\n",
    "    def length(self):\n",
    "        length  = 0\n",
    "        cur = self.head\n",
    "        while cur.next!=None:\n",
    "            length+=1\n",
    "            cur = cur.next\n",
    "        return length\n",
    "    def display_reverse(self):\n",
    "        #l = length\n",
    "        cur = self.head\n",
    "        while cur.next!=None:\n",
    "            cur = cur.next\n",
    "        while cur.prev!=None:\n",
    "            print(cur.data,end=\",\")\n",
    "            cur = cur.prev"
   ]
  },
  {
   "cell_type": "code",
   "execution_count": 17,
   "metadata": {},
   "outputs": [],
   "source": [
    "d = DLL()"
   ]
  },
  {
   "cell_type": "code",
   "execution_count": 18,
   "metadata": {},
   "outputs": [],
   "source": [
    "d.add(11)\n",
    "d.add(12)\n",
    "d.add(13)\n",
    "d.add(14)"
   ]
  },
  {
   "cell_type": "code",
   "execution_count": 21,
   "metadata": {},
   "outputs": [
    {
     "name": "stdout",
     "output_type": "stream",
     "text": [
      "[11, 12, 13, 14]\n"
     ]
    }
   ],
   "source": [
    "print(d.display())"
   ]
  },
  {
   "cell_type": "code",
   "execution_count": 22,
   "metadata": {},
   "outputs": [
    {
     "name": "stdout",
     "output_type": "stream",
     "text": [
      "14,13,12,11,"
     ]
    }
   ],
   "source": [
    "d.display_reverse()"
   ]
  },
  {
   "cell_type": "code",
   "execution_count": null,
   "metadata": {},
   "outputs": [],
   "source": []
  }
 ],
 "metadata": {
  "kernelspec": {
   "display_name": "Python 3",
   "language": "python",
   "name": "python3"
  },
  "language_info": {
   "codemirror_mode": {
    "name": "ipython",
    "version": 3
   },
   "file_extension": ".py",
   "mimetype": "text/x-python",
   "name": "python",
   "nbconvert_exporter": "python",
   "pygments_lexer": "ipython3",
   "version": "3.7.6"
  }
 },
 "nbformat": 4,
 "nbformat_minor": 4
}
