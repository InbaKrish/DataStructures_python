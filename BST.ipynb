{
 "cells": [
  {
   "cell_type": "code",
   "execution_count": 67,
   "metadata": {},
   "outputs": [],
   "source": [
    "import copy"
   ]
  },
  {
   "cell_type": "code",
   "execution_count": 8,
   "metadata": {},
   "outputs": [],
   "source": [
    "class BSTNode:\n",
    "    def __init__(self,data):\n",
    "        self.data = data\n",
    "        self.left = None\n",
    "        self.right = None\n",
    "        \n",
    "    def add_child(self,data):\n",
    "        if data == self.data:\n",
    "            print(data,\" already exists in the tree\")\n",
    "            return\n",
    "        elif data<self.data: \n",
    "            if self.left:\n",
    "                self.left.add_child(data) #recursively travers to the node where it left node is none\n",
    "            else:\n",
    "                self.left = BSTNode(data)\n",
    "        else:\n",
    "            if self.right:\n",
    "                self.right.add_child(data)\n",
    "            else:\n",
    "                self.right = BSTNode(data)\n",
    "                \n",
    "    def inorder_traversal(self): #[leftelements,base element,right elements] - sorted order display\n",
    "        result = []\n",
    "        \n",
    "        #verify left nodes\n",
    "        if self.left:\n",
    "            result += self.left.inorder_traversal() #add the result list each time returned recursively\n",
    "        \n",
    "        #verify base node\n",
    "        result.append(self.data)\n",
    "        \n",
    "        #verify right nodes\n",
    "        if self.right:\n",
    "            result += self.right.inorder_traversal()\n",
    "        \n",
    "        return result\n",
    "    \n",
    "    def preorder_traversal(self):\n",
    "        result = []\n",
    "        \n",
    "        #starting with base node\n",
    "        result.append(self.data)\n",
    "        \n",
    "        #verifying left nodes\n",
    "        if self.left:\n",
    "            result+= self.left.preorder_traversal()\n",
    "            \n",
    "        #verifying right nodes\n",
    "        if self.right:\n",
    "            result+=self.right.preorder_traversal()\n",
    "        \n",
    "        return result\n",
    "    \n",
    "    def postorder_traversal(self):\n",
    "        result=[]\n",
    "        \n",
    "        #verifying left nodes\n",
    "        if self.left:\n",
    "            result+= self.left.preorder_traversal()\n",
    "            \n",
    "        #verifying right nodes\n",
    "        if self.right:\n",
    "            result+=self.right.preorder_traversal()\n",
    "         \n",
    "        #ending with base node\n",
    "        result.append(self.data)   \n",
    "        \n",
    "        return result\n",
    "    \n",
    "    def find_min(self):\n",
    "        if self.left:\n",
    "            return self.left.find_min()\n",
    "        return self.data\n",
    "        \n",
    "    def find_max(self):\n",
    "        if self.right:\n",
    "            return self.right.find_max()\n",
    "        return self.data    \n",
    "    \n",
    "    def elements_sum(self):\n",
    "        return sum(self.inorder_traversal())\n",
    "    \n",
    "    def exists(self,data):\n",
    "        if self.data == data:\n",
    "            return True\n",
    "        if data<self.data:\n",
    "            if self.left:\n",
    "                return self.left.exists(data)\n",
    "            else:\n",
    "                return False\n",
    "        if data>self.data:\n",
    "            if self.right:\n",
    "                return self.right.exists(data)\n",
    "            else:\n",
    "                return False\n",
    "    def delete(self,data):\n",
    "        if self==None:\n",
    "            return self\n",
    "        if data<self.data:\n",
    "            self.left = self.left.delete(data)\n",
    "        elif data>self.data:\n",
    "            self.right = self.right.delete(data)\n",
    "            \n",
    "        else:\n",
    "            if self.left is None:\n",
    "                return self.right\n",
    "            elif self.right is None:\n",
    "                return self.left\n",
    "            elif self.left is None and self.right is None:\n",
    "                return None\n",
    "            \n",
    "            min_val = self.right.find_min()\n",
    "            self.data = min_val\n",
    "            self.right = self.right.delete(min_val)\n",
    "        \n",
    "        return self\n",
    "    \n",
    "def build_tree(elements):\n",
    "    base = BSTNode(elements[0])\n",
    "    for i in range(1,len(elements)):\n",
    "        base.add_child(elements[i])\n",
    "    \n",
    "    return base"
   ]
  },
  {
   "cell_type": "code",
   "execution_count": 17,
   "metadata": {},
   "outputs": [],
   "source": [
    "l = [50,30,70,20,40,60,80]\n",
    "p = build_tree(l)"
   ]
  },
  {
   "cell_type": "code",
   "execution_count": 18,
   "metadata": {},
   "outputs": [
    {
     "name": "stdout",
     "output_type": "stream",
     "text": [
      "[20, 30, 40, 50, 60, 70, 80]\n"
     ]
    }
   ],
   "source": [
    "print(p.inorder_traversal())"
   ]
  },
  {
   "cell_type": "code",
   "execution_count": 15,
   "metadata": {},
   "outputs": [
    {
     "data": {
      "text/plain": [
       "<__main__.BSTNode at 0x1d622ebb7c8>"
      ]
     },
     "execution_count": 15,
     "metadata": {},
     "output_type": "execute_result"
    }
   ],
   "source": [
    "p.delete(20)"
   ]
  },
  {
   "cell_type": "code",
   "execution_count": 16,
   "metadata": {},
   "outputs": [
    {
     "data": {
      "text/plain": [
       "[2, 1, 3, 12, 25, 9]"
      ]
     },
     "execution_count": 16,
     "metadata": {},
     "output_type": "execute_result"
    }
   ],
   "source": [
    "p.postorder_traversal()"
   ]
  },
  {
   "cell_type": "code",
   "execution_count": 58,
   "metadata": {},
   "outputs": [
    {
     "data": {
      "text/plain": [
       "2"
      ]
     },
     "execution_count": 58,
     "metadata": {},
     "output_type": "execute_result"
    }
   ],
   "source": [
    "p.data"
   ]
  },
  {
   "cell_type": "code",
   "execution_count": 104,
   "metadata": {},
   "outputs": [
    {
     "data": {
      "text/plain": [
       "8"
      ]
     },
     "execution_count": 104,
     "metadata": {},
     "output_type": "execute_result"
    }
   ],
   "source": [
    "p.find_max()"
   ]
  },
  {
   "cell_type": "code",
   "execution_count": 105,
   "metadata": {},
   "outputs": [
    {
     "data": {
      "text/plain": [
       "15"
      ]
     },
     "execution_count": 105,
     "metadata": {},
     "output_type": "execute_result"
    }
   ],
   "source": [
    "p.elements_sum()"
   ]
  },
  {
   "cell_type": "code",
   "execution_count": 2,
   "metadata": {},
   "outputs": [
    {
     "name": "stdout",
     "output_type": "stream",
     "text": [
      "none\n"
     ]
    }
   ],
   "source": [
    "a= None\n",
    "b = None\n",
    "if(a is None and b is None):\n",
    "    print(\"none\")"
   ]
  },
  {
   "cell_type": "code",
   "execution_count": null,
   "metadata": {},
   "outputs": [],
   "source": []
  }
 ],
 "metadata": {
  "kernelspec": {
   "display_name": "Python 3",
   "language": "python",
   "name": "python3"
  },
  "language_info": {
   "codemirror_mode": {
    "name": "ipython",
    "version": 3
   },
   "file_extension": ".py",
   "mimetype": "text/x-python",
   "name": "python",
   "nbconvert_exporter": "python",
   "pygments_lexer": "ipython3",
   "version": "3.7.6"
  }
 },
 "nbformat": 4,
 "nbformat_minor": 4
}
