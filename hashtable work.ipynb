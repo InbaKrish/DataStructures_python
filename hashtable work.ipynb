{
 "cells": [
  {
   "cell_type": "code",
   "execution_count": 38,
   "metadata": {},
   "outputs": [],
   "source": [
    "class HashTable:\n",
    "    def __init__(self):\n",
    "        self.arrsize = 10\n",
    "        self.arr = [None for i in range(self.arrsize)]       #Creates empty array of arrsize\n",
    "    \n",
    "    def gethash(self,key):                              #Get's the hash value of the given key ( hash total % arrsize)\n",
    "        h = 0\n",
    "        for i in key:\n",
    "            h+= int(ord(i))\n",
    "        return h % self.arrsize\n",
    "                                                   #(__getitem__,__setitem__,etc are standard operators of python)\n",
    "    def __setitem__(self,key,value):               #sets the given value to the key\n",
    "        h = self.gethash(key)\n",
    "        self.arr[h] = value\n",
    "        \n",
    "    def __getitem__(self,key):                     #gets the value for the given key \n",
    "        h= self.gethash(key)\n",
    "        return self.arr[h]\n",
    "    \n",
    "        \n",
    "        "
   ]
  },
  {
   "cell_type": "code",
   "execution_count": 42,
   "metadata": {},
   "outputs": [],
   "source": [
    "a= HashTable()\n",
    "a['march 6'] = 130  #setitem works"
   ]
  },
  {
   "cell_type": "code",
   "execution_count": 43,
   "metadata": {},
   "outputs": [
    {
     "data": {
      "text/plain": [
       "[None, None, None, None, None, None, None, None, None, 130]"
      ]
     },
     "execution_count": 43,
     "metadata": {},
     "output_type": "execute_result"
    }
   ],
   "source": [
    "a.arr  #getitem works"
   ]
  },
  {
   "cell_type": "code",
   "execution_count": 3,
   "metadata": {},
   "outputs": [
    {
     "name": "stdout",
     "output_type": "stream",
     "text": [
      "index : 0\n",
      "elem : [(1, 2), (2, 3)]\n",
      "index : 1\n",
      "elem : [(4, 5)]\n",
      "index : 2\n",
      "elem : []\n"
     ]
    }
   ],
   "source": [
    "b = [[(1,2),(2,3)],[(4,5)],[]]\n",
    "for i,e in enumerate(b):\n",
    "    print('index :',i)\n",
    "    print('elem :',e)"
   ]
  },
  {
   "cell_type": "code",
   "execution_count": 62,
   "metadata": {},
   "outputs": [],
   "source": [
    "#Collision handled HashMap => Chaining method\n",
    "\n",
    "class HashMap:\n",
    "    def __init__(self):\n",
    "        self.arrsize = 10\n",
    "        self.table = [[] for i in range(self.arrsize)]\n",
    "    def gethash(self,key):\n",
    "        h = 0\n",
    "        h += sum([int(ord(i)) for i in key])%self.arrsize\n",
    "        return h\n",
    "    def __setitem__(self,key,val):\n",
    "        h = self.gethash(key)\n",
    "        exist = False\n",
    "        for idx,ele in enumerate(self.table[h]):\n",
    "            if len(ele)==2 and ele[0]==key:\n",
    "                ele[1]=val\n",
    "                exist = True\n",
    "        if not exist:\n",
    "            self.table[h].append([key,val])\n",
    "    def __getitem__(self,key):\n",
    "        h = self.gethash(key)\n",
    "        for idx,ele in enumerate(self.table[h]):\n",
    "            if key == ele[0]:\n",
    "                return ele[1]\n",
    "    def __delitem__(self,key):\n",
    "        h = self.gethash(key)\n",
    "        for idx,ele in enumerate(self.table[h]):\n",
    "            if key == ele[0]:\n",
    "                del ele"
   ]
  },
  {
   "cell_type": "code",
   "execution_count": 69,
   "metadata": {},
   "outputs": [
    {
     "ename": "AttributeError",
     "evalue": "__delitem__",
     "output_type": "error",
     "traceback": [
      "\u001b[1;31m---------------------------------------------------------------------------\u001b[0m",
      "\u001b[1;31mAttributeError\u001b[0m                            Traceback (most recent call last)",
      "\u001b[1;32m<ipython-input-69-76ea8afd85a4>\u001b[0m in \u001b[0;36m<module>\u001b[1;34m\u001b[0m\n\u001b[0;32m      3\u001b[0m \u001b[0mb\u001b[0m\u001b[1;33m[\u001b[0m\u001b[1;34m'march 6'\u001b[0m\u001b[1;33m]\u001b[0m \u001b[1;33m=\u001b[0m \u001b[1;36m80\u001b[0m\u001b[1;33m\u001b[0m\u001b[1;33m\u001b[0m\u001b[0m\n\u001b[0;32m      4\u001b[0m \u001b[0mb\u001b[0m\u001b[1;33m[\u001b[0m\u001b[1;34m'march 17'\u001b[0m\u001b[1;33m]\u001b[0m \u001b[1;33m=\u001b[0m \u001b[1;36m8\u001b[0m\u001b[1;33m\u001b[0m\u001b[1;33m\u001b[0m\u001b[0m\n\u001b[1;32m----> 5\u001b[1;33m \u001b[1;32mdel\u001b[0m \u001b[0mb\u001b[0m\u001b[1;33m[\u001b[0m\u001b[1;34m'march 7'\u001b[0m\u001b[1;33m]\u001b[0m\u001b[1;33m\u001b[0m\u001b[1;33m\u001b[0m\u001b[0m\n\u001b[0m\u001b[0;32m      6\u001b[0m \u001b[0mb\u001b[0m\u001b[1;33m.\u001b[0m\u001b[0mtable\u001b[0m\u001b[1;33m\u001b[0m\u001b[1;33m\u001b[0m\u001b[0m\n",
      "\u001b[1;31mAttributeError\u001b[0m: __delitem__"
     ]
    }
   ],
   "source": [
    "b = HashMap()\n",
    "b['march 7'] =90\n",
    "b['march 6'] = 80\n",
    "b['march 17'] = 8\n",
    "del b['march 7']\n",
    "b.table\n"
   ]
  },
  {
   "cell_type": "code",
   "execution_count": 45,
   "metadata": {},
   "outputs": [
    {
     "name": "stdout",
     "output_type": "stream",
     "text": [
      "0 1\n",
      "1 2\n",
      "2 3\n"
     ]
    }
   ],
   "source": [
    "l = [[1,2,3],[1,2]]\n",
    "for k,i in enumerate(l[0]):\n",
    "    print ( k,i)"
   ]
  },
  {
   "cell_type": "code",
   "execution_count": null,
   "metadata": {},
   "outputs": [],
   "source": []
  }
 ],
 "metadata": {
  "celltoolbar": "Raw Cell Format",
  "kernelspec": {
   "display_name": "Python 3",
   "language": "python",
   "name": "python3"
  },
  "language_info": {
   "codemirror_mode": {
    "name": "ipython",
    "version": 3
   },
   "file_extension": ".py",
   "mimetype": "text/x-python",
   "name": "python",
   "nbconvert_exporter": "python",
   "pygments_lexer": "ipython3",
   "version": "3.7.6"
  }
 },
 "nbformat": 4,
 "nbformat_minor": 4
}
