{
 "cells": [
  {
   "cell_type": "code",
   "execution_count": 57,
   "metadata": {},
   "outputs": [],
   "source": [
    "class Node:\n",
    "    def __init__(self,data=None):\n",
    "        self.data = data\n",
    "        self.next = None"
   ]
  },
  {
   "cell_type": "code",
   "execution_count": 89,
   "metadata": {},
   "outputs": [],
   "source": [
    "class LinkedList:\n",
    "    def __init__(self):\n",
    "        self.head = Node()  #initial head node with data and next as None\n",
    "    def add(self,data):\n",
    "        new_node = Node(data) #instance with data in node object\n",
    "        cur_node = self.head #starting with the current node as the head node\n",
    "        while cur_node.next!=None: #iterating through nodes in order to set the next node to the previous node which has None\n",
    "            cur_node = cur_node.next\n",
    "        cur_node.next = new_node # setting the None next in the previous node to new node\n",
    "    def display(self):\n",
    "        elems = []\n",
    "        cur_node = self.head\n",
    "        while cur_node.next!=None:\n",
    "            cur_node = cur_node.next # setting next as current inorder to fetch the value in the next\n",
    "            elems.append(cur_node.data)\n",
    "        print(elems)\n",
    "        return elems\n",
    "    def length(self):\n",
    "        length  = 0\n",
    "        cur = self.head\n",
    "        while cur.next!=None:\n",
    "            length+=1\n",
    "            cur = cur.next\n",
    "        return length\n",
    "    def get(self,index):\n",
    "        if index>= self.length():\n",
    "            print(\"INDEX is out of range...\")\n",
    "            return None\n",
    "        cur = self.head\n",
    "        cur_index = 0\n",
    "        while True:\n",
    "            cur = cur.next\n",
    "            if cur_index == index:\n",
    "                return cur.data\n",
    "            cur_index+=1\n",
    "    def __getitem__(self,index):\n",
    "        return self.get(index)\n",
    "    def delete(self,index):\n",
    "        if index>=self.length():\n",
    "            print(\"INDEX is out of range...\")\n",
    "            return None\n",
    "        cur = self.head\n",
    "        cur_index = 0\n",
    "        while True:\n",
    "            last_node = cur\n",
    "            cur = cur.next\n",
    "            if cur_index == index:\n",
    "                last_node.next = cur.next\n",
    "                return \n",
    "            cur_index+=1"
   ]
  },
  {
   "cell_type": "code",
   "execution_count": 90,
   "metadata": {},
   "outputs": [],
   "source": [
    "ll = LinkedList()"
   ]
  },
  {
   "cell_type": "code",
   "execution_count": 91,
   "metadata": {},
   "outputs": [
    {
     "name": "stdout",
     "output_type": "stream",
     "text": [
      "[]\n"
     ]
    },
    {
     "data": {
      "text/plain": [
       "[]"
      ]
     },
     "execution_count": 91,
     "metadata": {},
     "output_type": "execute_result"
    }
   ],
   "source": [
    "ll.display()"
   ]
  },
  {
   "cell_type": "code",
   "execution_count": 92,
   "metadata": {},
   "outputs": [],
   "source": [
    "ll.add(1)\n",
    "ll.add(2)\n",
    "ll.add('10')\n",
    "ll.add(1.2)"
   ]
  },
  {
   "cell_type": "code",
   "execution_count": 93,
   "metadata": {},
   "outputs": [
    {
     "name": "stdout",
     "output_type": "stream",
     "text": [
      "[1, 2, '10', 1.2]\n"
     ]
    },
    {
     "data": {
      "text/plain": [
       "[1, 2, '10', 1.2]"
      ]
     },
     "execution_count": 93,
     "metadata": {},
     "output_type": "execute_result"
    }
   ],
   "source": [
    "ll.display()"
   ]
  },
  {
   "cell_type": "code",
   "execution_count": 94,
   "metadata": {},
   "outputs": [
    {
     "name": "stdout",
     "output_type": "stream",
     "text": [
      "4\n"
     ]
    }
   ],
   "source": [
    "print(ll.length())"
   ]
  },
  {
   "cell_type": "code",
   "execution_count": 95,
   "metadata": {},
   "outputs": [
    {
     "data": {
      "text/plain": [
       "1.2"
      ]
     },
     "execution_count": 95,
     "metadata": {},
     "output_type": "execute_result"
    }
   ],
   "source": [
    "ll.get(3)"
   ]
  },
  {
   "cell_type": "code",
   "execution_count": 96,
   "metadata": {},
   "outputs": [
    {
     "data": {
      "text/plain": [
       "'10'"
      ]
     },
     "execution_count": 96,
     "metadata": {},
     "output_type": "execute_result"
    }
   ],
   "source": [
    "ll[2]"
   ]
  },
  {
   "cell_type": "code",
   "execution_count": 97,
   "metadata": {},
   "outputs": [
    {
     "name": "stdout",
     "output_type": "stream",
     "text": [
      "[1, 2, 1.2]\n"
     ]
    },
    {
     "data": {
      "text/plain": [
       "[1, 2, 1.2]"
      ]
     },
     "execution_count": 97,
     "metadata": {},
     "output_type": "execute_result"
    }
   ],
   "source": [
    "ll.delete(2)\n",
    "ll.display()"
   ]
  },
  {
   "cell_type": "code",
   "execution_count": null,
   "metadata": {},
   "outputs": [],
   "source": []
  }
 ],
 "metadata": {
  "kernelspec": {
   "display_name": "Python 3",
   "language": "python",
   "name": "python3"
  },
  "language_info": {
   "codemirror_mode": {
    "name": "ipython",
    "version": 3
   },
   "file_extension": ".py",
   "mimetype": "text/x-python",
   "name": "python",
   "nbconvert_exporter": "python",
   "pygments_lexer": "ipython3",
   "version": "3.7.6"
  }
 },
 "nbformat": 4,
 "nbformat_minor": 4
}
