{
 "cells": [
  {
   "cell_type": "code",
   "execution_count": 47,
   "metadata": {},
   "outputs": [],
   "source": [
    "\n",
    "class TreeNode:\n",
    "    def __init__(self,data,role=\"Unspecified\"):\n",
    "        self.data = data\n",
    "        self.role = role\n",
    "        self.node_children = []  # children of the particular node object in order to add their child node objects\n",
    "        self.parent = None  # parent attribute of the ibject to specify its parent\n",
    "    def add_child(self,child):\n",
    "        child.parent = self #setting up the parent of the node as the calles node\n",
    "        self.node_children.append(child)\n",
    "    def get_tree_level(self):\n",
    "        level = 0\n",
    "        p = self.parent\n",
    "        while p:\n",
    "            level+=1\n",
    "            p = p.parent\n",
    "        return level\n",
    "    def print_tree(self,opt=0):\n",
    "        prefix = \" \"*self.get_tree_level()*3\n",
    "        prefix += \"-->\" if self.get_tree_level()>0 else \"\"\n",
    "        if opt==0:\n",
    "            print(prefix+self.data +\" (\"+self.role+\")\")\n",
    "        if opt==1:\n",
    "            print(prefix+self.data)\n",
    "        if opt==2:\n",
    "            print(prefix+self.role)\n",
    "        if self.node_children:\n",
    "            for child in self.node_children:\n",
    "                child.print_tree(opt)"
   ]
  },
  {
   "cell_type": "code",
   "execution_count": 48,
   "metadata": {},
   "outputs": [],
   "source": [
    "root = TreeNode('InbaSagaran','CEO')\n",
    "\n",
    "dir1 = TreeNode('Tim','Director')\n",
    "root.add_child(dir1)\n",
    "dir1.add_child(TreeNode('John','Employee'))\n",
    "dir1.add_child(TreeNode('Jack','Employee'))\n",
    "dir1.add_child(TreeNode('Emma','Employee'))\n",
    "\n",
    "dir2 = TreeNode('Kalle','Director')\n",
    "root.add_child(dir2)\n",
    "dir2.add_child(TreeNode('Jhonny','Employee'))\n",
    "dir2.add_child(TreeNode('Modi','Employee'))\n",
    "dir2.add_child(TreeNode('Elena','Employee'))\n"
   ]
  },
  {
   "cell_type": "code",
   "execution_count": 52,
   "metadata": {},
   "outputs": [
    {
     "name": "stdout",
     "output_type": "stream",
     "text": [
      "InbaSagaran (CEO)\n",
      "   -->Tim (Director)\n",
      "      -->John (Employee)\n",
      "      -->Jack (Employee)\n",
      "      -->Emma (Employee)\n",
      "   -->Kalle (Director)\n",
      "      -->Jhonny (Employee)\n",
      "      -->Modi (Employee)\n",
      "      -->Elena (Employee)\n"
     ]
    }
   ],
   "source": [
    "root.print_tree()"
   ]
  },
  {
   "cell_type": "code",
   "execution_count": 54,
   "metadata": {},
   "outputs": [
    {
     "name": "stdout",
     "output_type": "stream",
     "text": [
      "   -->Tim\n",
      "      -->John\n",
      "      -->Jack\n",
      "      -->Emma\n"
     ]
    }
   ],
   "source": [
    "dir1.print_tree(1)"
   ]
  },
  {
   "cell_type": "code",
   "execution_count": null,
   "metadata": {},
   "outputs": [],
   "source": []
  }
 ],
 "metadata": {
  "kernelspec": {
   "display_name": "Python 3",
   "language": "python",
   "name": "python3"
  },
  "language_info": {
   "codemirror_mode": {
    "name": "ipython",
    "version": 3
   },
   "file_extension": ".py",
   "mimetype": "text/x-python",
   "name": "python",
   "nbconvert_exporter": "python",
   "pygments_lexer": "ipython3",
   "version": "3.7.6"
  }
 },
 "nbformat": 4,
 "nbformat_minor": 4
}
