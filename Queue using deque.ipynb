{
 "cells": [
  {
   "cell_type": "code",
   "execution_count": 1,
   "metadata": {},
   "outputs": [],
   "source": [
    "from collections import deque"
   ]
  },
  {
   "cell_type": "code",
   "execution_count": 2,
   "metadata": {},
   "outputs": [],
   "source": [
    "class Queue():\n",
    "    def __init__(self):\n",
    "        self.items = deque()\n",
    "    def __str__(self):\n",
    "        return str(self.items)\n",
    "    def __repr__(self):\n",
    "        return str(self.items)\n",
    "    def enqueue(self,item):\n",
    "        self.items.append(item)\n",
    "    def dequeue(self):\n",
    "        return self.items.popleft()\n",
    "    def is_empty(self):\n",
    "        return not self.items\n",
    "    def peek(self):\n",
    "        return self.items[0]"
   ]
  },
  {
   "cell_type": "code",
   "execution_count": 13,
   "metadata": {},
   "outputs": [
    {
     "name": "stdout",
     "output_type": "stream",
     "text": [
      "deque([])\n",
      "deque(['A', 'B', 'C', 'D', 'E'])\n",
      "A\n",
      "deque(['B', 'C', 'D', 'E'])\n"
     ]
    }
   ],
   "source": [
    "if __name__ == '__main__':\n",
    "    q = Queue()\n",
    "    print(q)\n",
    "    q.enqueue('A')\n",
    "    q.enqueue('B')\n",
    "    q.enqueue('C')\n",
    "    q.enqueue('D')\n",
    "    q.enqueue('E')\n",
    "    print(q)\n",
    "    print(q.dequeue())\n",
    "    print(q)"
   ]
  },
  {
   "cell_type": "code",
   "execution_count": null,
   "metadata": {},
   "outputs": [],
   "source": []
  }
 ],
 "metadata": {
  "kernelspec": {
   "display_name": "Python 3",
   "language": "python",
   "name": "python3"
  },
  "language_info": {
   "codemirror_mode": {
    "name": "ipython",
    "version": 3
   },
   "file_extension": ".py",
   "mimetype": "text/x-python",
   "name": "python",
   "nbconvert_exporter": "python",
   "pygments_lexer": "ipython3",
   "version": "3.7.6"
  }
 },
 "nbformat": 4,
 "nbformat_minor": 4
}
